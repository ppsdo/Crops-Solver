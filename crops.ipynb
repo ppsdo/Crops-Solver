{
 "cells": [
  {
   "cell_type": "code",
   "execution_count": 2,
   "id": "f1e09b5c-1fa5-44a1-9767-b380d989c49b",
   "metadata": {},
   "outputs": [],
   "source": [
    "import cvxpy as cp\n",
    "import numpy as np"
   ]
  },
  {
   "cell_type": "code",
   "execution_count": null,
   "id": "ea8aae0e-413a-453d-947f-6fa130e6d639",
   "metadata": {},
   "outputs": [],
   "source": [
    "# parameters\n"
   ]
  }
 ],
 "metadata": {
  "kernelspec": {
   "display_name": "Python 3 (ipykernel)",
   "language": "python",
   "name": "python3"
  },
  "language_info": {
   "codemirror_mode": {
    "name": "ipython",
    "version": 3
   },
   "file_extension": ".py",
   "mimetype": "text/x-python",
   "name": "python",
   "nbconvert_exporter": "python",
   "pygments_lexer": "ipython3",
   "version": "3.12.3"
  }
 },
 "nbformat": 4,
 "nbformat_minor": 5
}
