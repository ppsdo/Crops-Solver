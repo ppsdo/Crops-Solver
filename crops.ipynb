{
 "cells": [
  {
   "cell_type": "code",
   "execution_count": 1,
   "id": "f1e09b5c-1fa5-44a1-9767-b380d989c49b",
   "metadata": {},
   "outputs": [],
   "source": [
    "import cvxpy as cp\n",
    "import numpy as np\n",
    "import pandas as pd"
   ]
  },
  {
   "cell_type": "code",
   "execution_count": 2,
   "id": "ea8aae0e-413a-453d-947f-6fa130e6d639",
   "metadata": {},
   "outputs": [
    {
     "data": {
      "text/html": [
       "<div>\n",
       "<style scoped>\n",
       "    .dataframe tbody tr th:only-of-type {\n",
       "        vertical-align: middle;\n",
       "    }\n",
       "\n",
       "    .dataframe tbody tr th {\n",
       "        vertical-align: top;\n",
       "    }\n",
       "\n",
       "    .dataframe thead th {\n",
       "        text-align: right;\n",
       "    }\n",
       "</style>\n",
       "<table border=\"1\" class=\"dataframe\">\n",
       "  <thead>\n",
       "    <tr style=\"text-align: right;\">\n",
       "      <th></th>\n",
       "      <th>crop</th>\n",
       "      <th>cost</th>\n",
       "      <th>selling price</th>\n",
       "      <th>time to grow</th>\n",
       "    </tr>\n",
       "    <tr>\n",
       "      <th>crop</th>\n",
       "      <th></th>\n",
       "      <th></th>\n",
       "      <th></th>\n",
       "      <th></th>\n",
       "    </tr>\n",
       "  </thead>\n",
       "  <tbody>\n",
       "    <tr>\n",
       "      <th>peas</th>\n",
       "      <td>peas</td>\n",
       "      <td>10</td>\n",
       "      <td>12</td>\n",
       "      <td>2</td>\n",
       "    </tr>\n",
       "    <tr>\n",
       "      <th>potatos</th>\n",
       "      <td>potatos</td>\n",
       "      <td>5</td>\n",
       "      <td>8</td>\n",
       "      <td>4</td>\n",
       "    </tr>\n",
       "    <tr>\n",
       "      <th>raspberries</th>\n",
       "      <td>raspberries</td>\n",
       "      <td>15</td>\n",
       "      <td>25</td>\n",
       "      <td>4</td>\n",
       "    </tr>\n",
       "    <tr>\n",
       "      <th>saffron</th>\n",
       "      <td>saffron</td>\n",
       "      <td>175</td>\n",
       "      <td>500</td>\n",
       "      <td>6</td>\n",
       "    </tr>\n",
       "  </tbody>\n",
       "</table>\n",
       "</div>"
      ],
      "text/plain": [
       "                    crop  cost  selling price  time to grow\n",
       "crop                                                       \n",
       "peas                peas    10             12             2\n",
       "potatos          potatos     5              8             4\n",
       "raspberries  raspberries    15             25             4\n",
       "saffron          saffron   175            500             6"
      ]
     },
     "execution_count": 2,
     "metadata": {},
     "output_type": "execute_result"
    }
   ],
   "source": [
    "# parameters\n",
    "initial_balance = 100\n",
    "max_months = 61 # we're going to look at the beginning of month 61 to evaluate the end of month 60\n",
    "crops_data = pd.read_csv(\"crops.csv\")\n",
    "crops_data.index = crops_data['crop']\n",
    "crops_data"
   ]
  },
  {
   "cell_type": "code",
   "execution_count": 10,
   "id": "de062039-a668-40f7-bf12-c6e4ae62ecf4",
   "metadata": {},
   "outputs": [
    {
     "name": "stdout",
     "output_type": "stream",
     "text": [
      "[Equality(Expression(AFFINE, UNKNOWN, ()), Constant(CONSTANT, ZERO, ())), Equality(Expression(AFFINE, UNKNOWN, ()), Constant(CONSTANT, ZERO, ())), Equality(Expression(AFFINE, UNKNOWN, ()), Expression(AFFINE, UNKNOWN, ())), Equality(Expression(AFFINE, UNKNOWN, ()), Expression(AFFINE, UNKNOWN, ())), Equality(Expression(AFFINE, UNKNOWN, ()), Expression(AFFINE, UNKNOWN, ())), Equality(Expression(AFFINE, UNKNOWN, ()), Expression(AFFINE, UNKNOWN, ())), Equality(Expression(AFFINE, UNKNOWN, ()), Expression(AFFINE, UNKNOWN, ())), Equality(Expression(AFFINE, UNKNOWN, ()), Expression(AFFINE, UNKNOWN, ())), Equality(Expression(AFFINE, UNKNOWN, ()), Expression(AFFINE, UNKNOWN, ())), Equality(Expression(AFFINE, UNKNOWN, ()), Expression(AFFINE, UNKNOWN, ())), Equality(Expression(AFFINE, UNKNOWN, ()), Expression(AFFINE, UNKNOWN, ())), Equality(Expression(AFFINE, UNKNOWN, ()), Expression(AFFINE, UNKNOWN, ())), Equality(Expression(AFFINE, UNKNOWN, ()), Expression(AFFINE, UNKNOWN, ())), Equality(Expression(AFFINE, UNKNOWN, ()), Expression(AFFINE, UNKNOWN, ())), Equality(Expression(AFFINE, UNKNOWN, ()), Expression(AFFINE, UNKNOWN, ())), Equality(Expression(AFFINE, UNKNOWN, ()), Expression(AFFINE, UNKNOWN, ())), Equality(Expression(AFFINE, UNKNOWN, ()), Expression(AFFINE, UNKNOWN, ())), Equality(Expression(AFFINE, UNKNOWN, ()), Expression(AFFINE, UNKNOWN, ())), Equality(Expression(AFFINE, UNKNOWN, ()), Expression(AFFINE, UNKNOWN, ())), Equality(Expression(AFFINE, UNKNOWN, ()), Expression(AFFINE, UNKNOWN, ())), Equality(Expression(AFFINE, UNKNOWN, ()), Expression(AFFINE, UNKNOWN, ())), Equality(Expression(AFFINE, UNKNOWN, ()), Expression(AFFINE, UNKNOWN, ())), Equality(Expression(AFFINE, UNKNOWN, ()), Expression(AFFINE, UNKNOWN, ())), Equality(Expression(AFFINE, UNKNOWN, ()), Expression(AFFINE, UNKNOWN, ())), Equality(Expression(AFFINE, UNKNOWN, ()), Expression(AFFINE, UNKNOWN, ())), Equality(Expression(AFFINE, UNKNOWN, ()), Expression(AFFINE, UNKNOWN, ())), Equality(Expression(AFFINE, UNKNOWN, ()), Expression(AFFINE, UNKNOWN, ())), Equality(Expression(AFFINE, UNKNOWN, ()), Expression(AFFINE, UNKNOWN, ())), Equality(Expression(AFFINE, UNKNOWN, ()), Expression(AFFINE, UNKNOWN, ())), Equality(Expression(AFFINE, UNKNOWN, ()), Expression(AFFINE, UNKNOWN, ())), Equality(Expression(AFFINE, UNKNOWN, ()), Expression(AFFINE, UNKNOWN, ())), Equality(Expression(AFFINE, UNKNOWN, ()), Expression(AFFINE, UNKNOWN, ())), Equality(Expression(AFFINE, UNKNOWN, ()), Expression(AFFINE, UNKNOWN, ())), Equality(Expression(AFFINE, UNKNOWN, ()), Expression(AFFINE, UNKNOWN, ())), Equality(Expression(AFFINE, UNKNOWN, ()), Expression(AFFINE, UNKNOWN, ())), Equality(Expression(AFFINE, UNKNOWN, ()), Expression(AFFINE, UNKNOWN, ())), Equality(Expression(AFFINE, UNKNOWN, ()), Expression(AFFINE, UNKNOWN, ())), Equality(Expression(AFFINE, UNKNOWN, ()), Expression(AFFINE, UNKNOWN, ())), Equality(Expression(AFFINE, UNKNOWN, ()), Expression(AFFINE, UNKNOWN, ())), Equality(Expression(AFFINE, UNKNOWN, ()), Expression(AFFINE, UNKNOWN, ())), Equality(Expression(AFFINE, UNKNOWN, ()), Expression(AFFINE, UNKNOWN, ())), Equality(Expression(AFFINE, UNKNOWN, ()), Expression(AFFINE, UNKNOWN, ())), Equality(Expression(AFFINE, UNKNOWN, ()), Expression(AFFINE, UNKNOWN, ())), Equality(Expression(AFFINE, UNKNOWN, ()), Expression(AFFINE, UNKNOWN, ())), Equality(Expression(AFFINE, UNKNOWN, ()), Expression(AFFINE, UNKNOWN, ())), Equality(Expression(AFFINE, UNKNOWN, ()), Expression(AFFINE, UNKNOWN, ())), Equality(Expression(AFFINE, UNKNOWN, ()), Expression(AFFINE, UNKNOWN, ())), Equality(Expression(AFFINE, UNKNOWN, ()), Expression(AFFINE, UNKNOWN, ())), Equality(Expression(AFFINE, UNKNOWN, ()), Expression(AFFINE, UNKNOWN, ())), Equality(Expression(AFFINE, UNKNOWN, ()), Expression(AFFINE, UNKNOWN, ())), Equality(Expression(AFFINE, UNKNOWN, ()), Expression(AFFINE, UNKNOWN, ())), Equality(Expression(AFFINE, UNKNOWN, ()), Expression(AFFINE, UNKNOWN, ())), Equality(Expression(AFFINE, UNKNOWN, ()), Expression(AFFINE, UNKNOWN, ())), Equality(Expression(AFFINE, UNKNOWN, ()), Expression(AFFINE, UNKNOWN, ())), Equality(Expression(AFFINE, UNKNOWN, ()), Expression(AFFINE, UNKNOWN, ())), Equality(Expression(AFFINE, UNKNOWN, ()), Expression(AFFINE, UNKNOWN, ())), Equality(Expression(AFFINE, UNKNOWN, ()), Expression(AFFINE, UNKNOWN, ())), Equality(Expression(AFFINE, UNKNOWN, ()), Expression(AFFINE, UNKNOWN, ())), Equality(Expression(AFFINE, UNKNOWN, ()), Expression(AFFINE, UNKNOWN, ())), Equality(Expression(AFFINE, UNKNOWN, ()), Expression(AFFINE, UNKNOWN, ())), Equality(Expression(AFFINE, UNKNOWN, ()), Expression(AFFINE, UNKNOWN, ()))]\n",
      "optimal value: inf\n",
      "\n",
      "Variable balance: value None\n",
      "Variable grown_peas: value None\n",
      "Variable peas: value None\n",
      "Variable grown_potatos: value None\n",
      "Variable potatos: value None\n",
      "Variable grown_raspberries: value None\n",
      "Variable raspberries: value None\n",
      "Variable grown_saffron: value None\n",
      "Variable saffron: value None\n"
     ]
    }
   ],
   "source": [
    "# goal is to maximize profit by only buying crops\n",
    "\n",
    "# the real variables you can control\n",
    "peas = cp.Variable((max_months), \"peas\") # number of peas to buy at the beginning of month i\n",
    "potatos = cp.Variable((max_months), \"potatos\") # number of potatos to buy at the beginning of month i\n",
    "raspberries = cp.Variable((max_months), \"raspberries\") # number of raspberries to buy at the beginning of month i\n",
    "saffron = cp.Variable((max_months), \"saffron\") # number of saffron to buy at the beginning of month i\n",
    "\n",
    "# auxilliary variable\n",
    "grown_peas = cp.Variable((max_months), \"grown_peas\") # number of peas that have grown at the beginning of month i\n",
    "grown_potatos = cp.Variable((max_months), \"grown_potatos\") # number of potatos that have grown at the beginning of month i\n",
    "grown_raspberries = cp.Variable((max_months), \"grown_raspberries\") # number of raspberries that have grown at the beginning of month i\n",
    "grown_saffron = cp.Variable((max_months), \"grown_saffron\") # number of saffron that have grown at the beginning of month i\n",
    "\n",
    "# technically auxilliary variable, since can be written in terms of the variables you can control, but will optimize the last balance\n",
    "balance = cp.Variable((max_months), \"balance\") # the balance at the beginning of each month after buying crops\n",
    "\n",
    "constraints = []\n",
    "\n",
    "# grown peas\n",
    "for i in range(max_months):\n",
    "    growth_time = crops_data['time to grow']['peas']\n",
    "    if i < growth_time:\n",
    "        constraints.append(grown_peas[i] == 0)\n",
    "    else:\n",
    "        constraints.append(grown_peas[i] == peas[i - growth_time])\n",
    "print(constraints)\n",
    "\n",
    "# grown potatos\n",
    "for i in range(max_months):\n",
    "    growth_time = crops_data['time to grow']['potatos']\n",
    "    if i < growth_time:\n",
    "        constraints.append(grown_potatos[i] == 0)\n",
    "    else:\n",
    "        constraints.append(grown_potatos[i] == potatos[i - growth_time])\n",
    "\n",
    "# grown raspberries\n",
    "for i in range(max_months):\n",
    "    growth_time = crops_data['time to grow']['raspberries']\n",
    "    if i < growth_time:\n",
    "        constraints.append(grown_raspberries[i] == 0)\n",
    "    else:\n",
    "        constraints.append(grown_raspberries[i] == raspberries[i - growth_time])\n",
    "\n",
    "# grown saffron\n",
    "for i in range(max_months):\n",
    "    growth_time = crops_data['time to grow']['saffron']\n",
    "    if i < growth_time:\n",
    "        constraints.append(grown_saffron[i] == 0)\n",
    "    else:\n",
    "        constraints.append(grown_saffron[i] == saffron[i - growth_time])\n",
    "\n",
    "# balance constraints\n",
    "for i in range(max_months):\n",
    "    cost = crops_data['cost']['peas']*peas[i] + crops_data['cost']['potatos']*potatos[i] + crops_data['cost']['raspberries']*raspberries[i] + crops_data['cost']['saffron']*saffron[i]\n",
    "    revenue = crops_data['selling price']['peas']*grown_peas[i] + crops_data['selling price']['potatos']*grown_potatos[i] + crops_data['selling price']['raspberries']*grown_raspberries[i] + crops_data['selling price']['saffron']*grown_saffron[i]\n",
    "    previous_balance = (i == 0 and initial_balance) or balance[i-1]\n",
    "    constraints.append(balance[i] == previous_balance - cost + revenue)\n",
    "    constraints.append(balance[i] >= 0)\n",
    "\n",
    "# max balance[max_months]\n",
    "obj = cp.Maximize(balance[max_months - 1])\n",
    "\n",
    "prob = cp.Problem(obj, constraints)\n",
    "optimum = prob.solve(solver=cp.CLARABEL)\n",
    "\n",
    "print(\"optimal value: %s\\n\" % optimum)\n",
    "for variable in prob.variables():\n",
    "    print(\"Variable %s: value %s\" % (variable.name(), variable.value))"
   ]
  },
  {
   "cell_type": "code",
   "execution_count": 4,
   "id": "162db34b-674d-434a-b902-e78f7d85543a",
   "metadata": {},
   "outputs": [
    {
     "name": "stdout",
     "output_type": "stream",
     "text": [
      "<class 'cvxpy.constraints.zero.Equality'>\n"
     ]
    }
   ],
   "source": [
    "print(type(balance[i] == 2))"
   ]
  }
 ],
 "metadata": {
  "kernelspec": {
   "display_name": "Python 3 (ipykernel)",
   "language": "python",
   "name": "python3"
  },
  "language_info": {
   "codemirror_mode": {
    "name": "ipython",
    "version": 3
   },
   "file_extension": ".py",
   "mimetype": "text/x-python",
   "name": "python",
   "nbconvert_exporter": "python",
   "pygments_lexer": "ipython3",
   "version": "3.12.3"
  }
 },
 "nbformat": 4,
 "nbformat_minor": 5
}
